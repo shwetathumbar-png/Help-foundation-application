{
 "cells": [
  {
   "cell_type": "code",
   "execution_count": 8,
   "id": "ed677fba",
   "metadata": {},
   "outputs": [
    {
     "name": "stdout",
     "output_type": "stream",
     "text": [
      "Defaulting to user installation because normal site-packages is not writeable\n",
      "Requirement already satisfied: joblib in c:\\programdata\\anaconda3\\lib\\site-packages (1.2.0)\n",
      "Note: you may need to restart the kernel to use updated packages.\n"
     ]
    },
    {
     "name": "stderr",
     "output_type": "stream",
     "text": [
      "WARNING: Ignoring invalid distribution ~cikit-learn (C:\\Users\\Dell\\AppData\\Roaming\\Python\\Python311\\site-packages)\n",
      "WARNING: Ignoring invalid distribution ~cikit-learn (C:\\Users\\Dell\\AppData\\Roaming\\Python\\Python311\\site-packages)\n",
      "WARNING: Ignoring invalid distribution ~cikit-learn (C:\\Users\\Dell\\AppData\\Roaming\\Python\\Python311\\site-packages)\n"
     ]
    }
   ],
   "source": [
    "pip install joblib"
   ]
  },
  {
   "cell_type": "code",
   "execution_count": 6,
   "id": "5bf047be",
   "metadata": {},
   "outputs": [
    {
     "name": "stdout",
     "output_type": "stream",
     "text": [
      "Overwriting app.py\n"
     ]
    }
   ],
   "source": [
    "%%writefile app.py\n",
    "import streamlit as st\n",
    "import numpy as np\n",
    "import pandas as pd\n",
    "import joblib\n",
    "\n",
    "# First lets load the instances that were created\n",
    "\n",
    "with open('scaler.joblib','rb') as file:\n",
    "    scale = joblib.load(file)\n",
    "    \n",
    "with open('pca.joblib','rb') as file:\n",
    "    pca = joblib.load(file)\n",
    "    \n",
    "with open('final_model.joblib','rb') as file:\n",
    "    model = joblib.load(file)\n",
    "    \n",
    "def prediction(input_list):\n",
    "    \n",
    "    scaled_input = scale.transform([input_list])\n",
    "    pca_input = pca.transform(scaled_input)\n",
    "    output = model.predict(pca_input)[0]\n",
    "    \n",
    "    if output == 0:\n",
    "        return 'Developed'\n",
    "    elif output == 1:\n",
    "        return 'Underdeveloped'\n",
    "    else:\n",
    "        return 'Developing'\n",
    "    \n",
    "def main():\n",
    "    \n",
    "    st.title('HELP NGO FOUNDATION')\n",
    "    st.subheader('This application will give the status of a country based on socio-economic and health factors')\n",
    "    \n",
    "    gdp = st.text_input('Enter the GDP per population of a country')\n",
    "    inc = st.text_input('Enter the per capita income of a country')\n",
    "    imp = st.text_input('Enter the Imports in terms of % of GDP')\n",
    "    exp = st.text_input('Enter the Exports in terms of % of GDP')\n",
    "    inf = st.text_input('Enter the inflation rate in a country(%)')\n",
    "    \n",
    "    hel = st.text_input('Enter the expenditure on health in terms % of GDP')\n",
    "    ch_m = st.text_input('Enter the number of deaths per 1000 births for <5 years')\n",
    "    fer = st.text_input('Enter the average children born to a women in a country')\n",
    "    lf = st.text_input('Enter the average life expectancy in a country')\n",
    "    \n",
    "    in_data=[ch_m,exp,hel,imp,inc,inf,lf,fer,gdp]\n",
    "    \n",
    "    if st.button('Predict'):\n",
    "        response = prediction(in_data)\n",
    "        st.success(response)\n",
    "        \n",
    "if __name__=='__main__':\n",
    "    main()"
   ]
  },
  {
   "cell_type": "code",
   "execution_count": null,
   "id": "3c5b8284",
   "metadata": {},
   "outputs": [],
   "source": []
  },
  {
   "cell_type": "code",
   "execution_count": null,
   "id": "a130125f",
   "metadata": {},
   "outputs": [],
   "source": []
  },
  {
   "cell_type": "code",
   "execution_count": null,
   "id": "45cb5016",
   "metadata": {},
   "outputs": [],
   "source": []
  },
  {
   "cell_type": "code",
   "execution_count": null,
   "id": "3b864051",
   "metadata": {},
   "outputs": [],
   "source": []
  },
  {
   "cell_type": "code",
   "execution_count": null,
   "id": "e8812b72",
   "metadata": {},
   "outputs": [],
   "source": []
  },
  {
   "cell_type": "code",
   "execution_count": null,
   "id": "b461b970",
   "metadata": {},
   "outputs": [],
   "source": []
  },
  {
   "cell_type": "code",
   "execution_count": null,
   "id": "44dcee35",
   "metadata": {},
   "outputs": [],
   "source": []
  },
  {
   "cell_type": "code",
   "execution_count": null,
   "id": "61efe479",
   "metadata": {},
   "outputs": [],
   "source": []
  },
  {
   "cell_type": "code",
   "execution_count": null,
   "id": "34fccd7d",
   "metadata": {},
   "outputs": [],
   "source": []
  },
  {
   "cell_type": "code",
   "execution_count": null,
   "id": "15270fe7",
   "metadata": {},
   "outputs": [],
   "source": []
  },
  {
   "cell_type": "code",
   "execution_count": null,
   "id": "b9ecf99f",
   "metadata": {},
   "outputs": [],
   "source": []
  },
  {
   "cell_type": "code",
   "execution_count": null,
   "id": "f2eb18c1",
   "metadata": {},
   "outputs": [],
   "source": []
  },
  {
   "cell_type": "code",
   "execution_count": null,
   "id": "009d89d5",
   "metadata": {},
   "outputs": [],
   "source": []
  },
  {
   "cell_type": "code",
   "execution_count": null,
   "id": "aba77c9b",
   "metadata": {},
   "outputs": [],
   "source": []
  },
  {
   "cell_type": "code",
   "execution_count": null,
   "id": "82fcb41a",
   "metadata": {},
   "outputs": [],
   "source": []
  },
  {
   "cell_type": "code",
   "execution_count": null,
   "id": "648597dc",
   "metadata": {},
   "outputs": [],
   "source": []
  }
 ],
 "metadata": {
  "kernelspec": {
   "display_name": "Python 3 (ipykernel)",
   "language": "python",
   "name": "python3"
  },
  "language_info": {
   "codemirror_mode": {
    "name": "ipython",
    "version": 3
   },
   "file_extension": ".py",
   "mimetype": "text/x-python",
   "name": "python",
   "nbconvert_exporter": "python",
   "pygments_lexer": "ipython3",
   "version": "3.11.7"
  }
 },
 "nbformat": 4,
 "nbformat_minor": 5
}
