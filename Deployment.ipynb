{
 "cells": [
  {
   "cell_type": "code",
   "execution_count": 1,
   "id": "a755fd0c",
   "metadata": {},
   "outputs": [
    {
     "name": "stdout",
     "output_type": "stream",
     "text": [
      "Writing app.py\n"
     ]
    }
   ],
   "source": []
  },
  {
   "cell_type": "code",
   "execution_count": 4,
   "id": "a02efb41",
   "metadata": {},
   "outputs": [
    {
     "name": "stdout",
     "output_type": "stream",
     "text": [
      "Overwriting app.py\n"
     ]
    }
   ],
   "source": [
    "%%writefile app.py\n",
    "\n",
    "import streamlit as st\n",
    "import numpy as np\n",
    "import pandas as pd\n",
    "import joblib\n",
    "\n",
    "# First lets load the instances that were created\n",
    "\n",
    "with open('scaler.joblib','rb') as file:\n",
    "    scale = joblib.load(file)\n",
    "    \n",
    "with open('pca.joblib','rb') as file:\n",
    "    pca = joblib.load(file)\n",
    "    \n",
    "with open('final_model.joblib','rb') as file:\n",
    "    model = joblib.load(file)\n",
    "    \n",
    "def prediction(input_list):\n",
    "    \n",
    "    scaled_input = scale.transform([input_list])\n",
    "    pca_input = pca.transform(scaled_input)\n",
    "    output = model.predict(pca_input)[0]\n",
    "    \n",
    "    if output == 0:\n",
    "        return 'Developed'\n",
    "    elif output == 1:\n",
    "        return 'Underdeveloped'\n",
    "    else:\n",
    "        return 'Developing'\n",
    "    \n",
    "def main():\n",
    "    \n",
    "    st.title('HELP NGO FOUNDATION')\n",
    "    st.subheader('This application will give the status of a country based on socio-economic and health factors')\n",
    "    \n",
    "    gdp = st.text_input('Enter the GDP per population of a country')\n",
    "    inc = st.text_input('Enter the per capita income of a country')\n",
    "    imp = st.text_input('Enter the Imports in terms of % of GDP')\n",
    "    exp = st.text_input('Enter the Exports in terms of % of GDP')\n",
    "    inf = st.text_input('Enter the inflation rate in a country(%)')\n",
    "    \n",
    "    hel = st.text_input('Enter the expenditure on health in terms % of GDP')\n",
    "    ch_m = st.text_input('Enter the number of deaths per 1000 births for <5 years')\n",
    "    fer = st.text_input('Enter the average children born to a women in a country')\n",
    "    lf = st.text_input('Enter the average life expectancy in a country')\n",
    "    \n",
    "    in_data=[ch_m,exp,hel,imp,inc,inf,lf,fer,gdp]\n",
    "    \n",
    "    if st.button('Predict'):\n",
    "        response = prediction(in_data)\n",
    "        st.success(response)\n",
    "        \n",
    "if__name__=='__main__':\n",
    "    main()"
   ]
  },
  {
   "cell_type": "code",
   "execution_count": null,
   "id": "d9a481fc",
   "metadata": {},
   "outputs": [],
   "source": []
  },
  {
   "cell_type": "code",
   "execution_count": null,
   "id": "00809a62",
   "metadata": {},
   "outputs": [],
   "source": []
  },
  {
   "cell_type": "code",
   "execution_count": null,
   "id": "aa5d431c",
   "metadata": {},
   "outputs": [],
   "source": []
  },
  {
   "cell_type": "code",
   "execution_count": null,
   "id": "da9c6539",
   "metadata": {},
   "outputs": [],
   "source": []
  },
  {
   "cell_type": "code",
   "execution_count": null,
   "id": "2ff1d7f5",
   "metadata": {},
   "outputs": [],
   "source": []
  },
  {
   "cell_type": "code",
   "execution_count": null,
   "id": "dfdb524b",
   "metadata": {},
   "outputs": [],
   "source": []
  },
  {
   "cell_type": "code",
   "execution_count": null,
   "id": "4e812c3b",
   "metadata": {},
   "outputs": [],
   "source": []
  },
  {
   "cell_type": "code",
   "execution_count": null,
   "id": "0e4c969c",
   "metadata": {},
   "outputs": [],
   "source": []
  },
  {
   "cell_type": "code",
   "execution_count": null,
   "id": "57d6546b",
   "metadata": {},
   "outputs": [],
   "source": []
  },
  {
   "cell_type": "code",
   "execution_count": null,
   "id": "292a3ca3",
   "metadata": {},
   "outputs": [],
   "source": []
  },
  {
   "cell_type": "code",
   "execution_count": null,
   "id": "ddef0d0a",
   "metadata": {},
   "outputs": [],
   "source": []
  },
  {
   "cell_type": "code",
   "execution_count": null,
   "id": "28e3681c",
   "metadata": {},
   "outputs": [],
   "source": []
  },
  {
   "cell_type": "code",
   "execution_count": null,
   "id": "2972d8d1",
   "metadata": {},
   "outputs": [],
   "source": []
  },
  {
   "cell_type": "code",
   "execution_count": null,
   "id": "62c7880a",
   "metadata": {},
   "outputs": [],
   "source": []
  },
  {
   "cell_type": "code",
   "execution_count": null,
   "id": "028d0e81",
   "metadata": {},
   "outputs": [],
   "source": []
  },
  {
   "cell_type": "code",
   "execution_count": null,
   "id": "553e08a7",
   "metadata": {},
   "outputs": [],
   "source": []
  }
 ],
 "metadata": {
  "kernelspec": {
   "display_name": "Python 3 (ipykernel)",
   "language": "python",
   "name": "python3"
  },
  "language_info": {
   "codemirror_mode": {
    "name": "ipython",
    "version": 3
   },
   "file_extension": ".py",
   "mimetype": "text/x-python",
   "name": "python",
   "nbconvert_exporter": "python",
   "pygments_lexer": "ipython3",
   "version": "3.11.7"
  }
 },
 "nbformat": 4,
 "nbformat_minor": 5
}
